{
 "cells": [
  {
   "cell_type": "code",
   "execution_count": 1,
   "source": [
    "from transformers import PreTrainedTokenizerFast\r\n",
    "\r\n",
    "tokenizer = PreTrainedTokenizerFast.from_pretrained(\"skt/kogpt2-base-v2\",\r\n",
    "    bos_token='</s>', eos_token='</s>', unk_token='<unk>',\r\n",
    "    pad_token='<pad>', mask_token='<mask>') \r\n",
    "tokenizer.tokenize(\"안녕하세요. 한국어 GPT-2 입니다.😤:)l^o\")\r\n"
   ],
   "outputs": [
    {
     "output_type": "stream",
     "name": "stderr",
     "text": [
      "Downloading: 100%|██████████| 2.83M/2.83M [00:01<00:00, 2.31MB/s]\n"
     ]
    },
    {
     "output_type": "execute_result",
     "data": {
      "text/plain": [
       "['▁안녕',\n",
       " '하',\n",
       " '세',\n",
       " '요.',\n",
       " '▁한국어',\n",
       " '▁G',\n",
       " 'P',\n",
       " 'T',\n",
       " '-2',\n",
       " '▁입',\n",
       " '니다.',\n",
       " '😤',\n",
       " ':)',\n",
       " 'l^o']"
      ]
     },
     "metadata": {},
     "execution_count": 1
    }
   ],
   "metadata": {}
  },
  {
   "cell_type": "code",
   "execution_count": 3,
   "source": [
    "import torch\r\n",
    "from transformers import GPT2LMHeadModel\r\n",
    "\r\n",
    "model = GPT2LMHeadModel.from_pretrained('skt/kogpt2-base-v2')\r\n",
    "text = '별 하나의 추억과'\r\n",
    "input_ids = tokenizer.encode(text)\r\n",
    "gen_ids = model.generate(torch.tensor([input_ids]),\r\n",
    "                           max_length=128,\r\n",
    "                           repetition_penalty=2.0,\r\n",
    "                           pad_token_id=tokenizer.pad_token_id,\r\n",
    "                           eos_token_id=tokenizer.eos_token_id,\r\n",
    "                           bos_token_id=tokenizer.bos_token_id,\r\n",
    "                           use_cache=True)\r\n",
    "generated = tokenizer.decode(gen_ids[0,:].tolist())\r\n",
    "print(generated)\r\n"
   ],
   "outputs": [
    {
     "output_type": "stream",
     "name": "stdout",
     "text": [
      "심세경은 \"지난해 12월 말 현재 국내총생산(GDP) 대비 국가채무 비율은 40.9%로 경제협력개발기구(OECD)의 평균인 43.8%보다 높다\"며 \"이런 상황에서 정부가 재정건전성을 위해 국채 발행을 늘리고 있다\"고 지적했다.\n",
      "그는 이어 “국채발행 증가가 경기부양 효과를 상쇄할 수 있다는 점에서 바람직하다”면서도 “이번 추경 편성은 경제회복을 위한 불가피한 선택”이라고 덧붙였다.\n",
      "이날 토론회에 참석한 한 참석자는 이 같은 정부의 방침에 대해 ‘재정 건전성 확보’라는 명분을 내세우며 반대 입장을 분명히 했다.\n",
      "김영주 한국조폐공사 사\n"
     ]
    }
   ],
   "metadata": {}
  }
 ],
 "metadata": {
  "orig_nbformat": 4,
  "language_info": {
   "name": "python"
  }
 },
 "nbformat": 4,
 "nbformat_minor": 2
}